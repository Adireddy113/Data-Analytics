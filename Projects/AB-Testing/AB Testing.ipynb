{
 "cells": [
  {
   "cell_type": "code",
   "execution_count": 9,
   "id": "34f9170c-02bd-402c-bd48-e45d04ff01a3",
   "metadata": {},
   "outputs": [],
   "source": [
    "import pandas as pd\n",
    "import seaborn as sns\n",
    "import matplotlib.pyplot as plt\n",
    "import statsmodels.formula.api as smf\n",
    "\n",
    "df = pd.read_csv(r\"C:\\Users\\Administrator\\Downloads\\ab_test_data_5000.csv\")"
   ]
  },
  {
   "cell_type": "code",
   "execution_count": 10,
   "id": "91e7941a-8130-4467-94fb-5ce589dac958",
   "metadata": {},
   "outputs": [
    {
     "name": "stdout",
     "output_type": "stream",
     "text": [
      "user_id         0\n",
      "group           0\n",
      "landing_page    0\n",
      "country         0\n",
      "converted       0\n",
      "timestamp       0\n",
      "dtype: int64\n",
      "user_id          int64\n",
      "group           object\n",
      "landing_page    object\n",
      "country         object\n",
      "converted        int64\n",
      "timestamp       object\n",
      "dtype: object\n"
     ]
    }
   ],
   "source": [
    "print(df.isnull().sum())\n",
    "print(df.dtypes)\n",
    "df['timestamp'] = pd.to_datetime(df['timestamp'])"
   ]
  },
  {
   "cell_type": "code",
   "execution_count": 11,
   "id": "9bcd273e-4964-43ba-9f39-0b083c74e61c",
   "metadata": {},
   "outputs": [
    {
     "name": "stdout",
     "output_type": "stream",
     "text": [
      "       group  converted\n",
      "0    control   0.109026\n",
      "1  treatment   0.139423\n"
     ]
    },
    {
     "data": {
      "image/png": "[encoded data removed]",
      "text/plain": [
       "<Figure size 640x480 with 1 Axes>"
      ]
     },
     "metadata": {},
     "output_type": "display_data"
    }
   ],
   "source": [
    "conversion_rate = df.groupby('group')['converted'].mean().reset_index()\n",
    "print(conversion_rate)\n",
    "sns.barplot(x='group', y='converted', data=conversion_rate)\n",
    "plt.title(\"Conversion Rate by Group\")\n",
    "plt.ylabel(\"Conversion Rate\")\n",
    "plt.show()"
   ]
  },
  {
   "cell_type": "code",
   "execution_count": 12,
   "id": "e5134f0b-286a-4856-a2ef-029767768252",
   "metadata": {},
   "outputs": [
    {
     "name": "stdout",
     "output_type": "stream",
     "text": [
      "Optimization terminated successfully.\n",
      "         Current function value: 0.374146\n",
      "         Iterations 6\n",
      "                           Logit Regression Results                           \n",
      "==============================================================================\n",
      "Dep. Variable:              converted   No. Observations:                 5000\n",
      "Model:                          Logit   Df Residuals:                     4998\n",
      "Method:                           MLE   Df Model:                            1\n",
      "Date:                Sun, 20 Jul 2025   Pseudo R-squ.:                0.002836\n",
      "Time:                        10:42:43   Log-Likelihood:                -1870.7\n",
      "converged:                       True   LL-Null:                       -1876.1\n",
      "Covariance Type:            nonrobust   LLR p-value:                  0.001106\n",
      "===========================================================================================\n",
      "                              coef    std err          z      P>|z|      [0.025      0.975]\n",
      "-------------------------------------------------------------------------------------------\n",
      "Intercept                  -2.1007      0.064    -32.763      0.000      -2.226      -1.975\n",
      "treatment_group[T.True]     0.2806      0.086      3.251      0.001       0.111       0.450\n",
      "===========================================================================================\n"
     ]
    }
   ],
   "source": [
    "df_encoded = pd.get_dummies(df[['group', 'converted']], drop_first=True)\n",
    "df_encoded.rename(columns={'group_treatment': 'treatment_group'}, inplace=True)\n",
    "model = smf.logit('converted ~ treatment_group', data=df_encoded).fit()\n",
    "print(model.summary())"
   ]
  },
  {
   "cell_type": "code",
   "execution_count": 14,
   "id": "06710823-1f00-4456-aff9-87971a7e4a8c",
   "metadata": {},
   "outputs": [
    {
     "name": "stdout",
     "output_type": "stream",
     "text": [
      " Conversion Summary:\n",
      "\n",
      "           sum  count  conversion_rate\n",
      "group                                 \n",
      "control    273   2504         0.109026\n",
      "treatment  348   2496         0.139423\n",
      "\n",
      " Chi-Square Test Results:\n",
      "Chi2 statistic: 10.3408\n",
      "p-value: 0.0013\n",
      "\n",
      " The difference in conversion rates is statistically significant\n"
     ]
    }
   ],
   "source": [
    "import pandas as pd\n",
    "import numpy as np\n",
    "from scipy.stats import chi2_contingency\n",
    "df = pd.read_csv(r\"C:\\Users\\Administrator\\Downloads\\ab_test_data_5000.csv\")\n",
    "\n",
    "group_summary = df.groupby('group')['converted'].agg(['sum', 'count'])\n",
    "group_summary['conversion_rate'] = group_summary['sum'] / group_summary['count']\n",
    "print(\" Conversion Summary:\\n\")\n",
    "print(group_summary)\n",
    "\n",
    "contingency = pd.crosstab(df['group'], df['converted'])\n",
    "chi2, p, dof, expected = chi2_contingency(contingency)\n",
    "print(\"\\n Chi-Square Test Results:\")\n",
    "print(f\"Chi2 statistic: {chi2:.4f}\")\n",
    "print(f\"p-value: {p:.4f}\")\n",
    "\n",
    "if p < 0.05:\n",
    "    print(\"\\n The difference in conversion rates is statistically significant\")\n",
    "else:\n",
    "    print(\"\\n The difference in conversion rates is NOT statistically significant\")\n"
   ]
  },
  {
   "cell_type": "code",
   "execution_count": null,
   "id": "1eaf09bf-bae6-4a0d-aabe-28fce7f34097",
   "metadata": {},
   "outputs": [],
   "source": []
  }
 ],
 "metadata": {
  "kernelspec": {
   "display_name": "Python 3 (ipykernel)",
   "language": "python",
   "name": "python3"
  },
  "language_info": {
   "codemirror_mode": {
    "name": "ipython",
    "version": 3
   },
   "file_extension": ".py",
   "mimetype": "text/x-python",
   "name": "python",
   "nbconvert_exporter": "python",
   "pygments_lexer": "ipython3",
   "version": "3.12.3"
  }
 },
 "nbformat": 4,
 "nbformat_minor": 5
}
